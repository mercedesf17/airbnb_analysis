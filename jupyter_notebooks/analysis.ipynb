{
 "cells": [
  {
   "cell_type": "markdown",
   "metadata": {},
   "source": [
    "Analysis"
   ]
  },
  {
   "cell_type": "code",
   "execution_count": 43,
   "metadata": {},
   "outputs": [],
   "source": [
    "import pandas as pd\n",
    "import seaborn as sns\n",
    "import matplotlib.pyplot as plt\n",
    "from sklearn.model_selection import train_test_split\n",
    "from sklearn.linear_model import LinearRegression\n",
    "from sklearn.metrics import mean_squared_error, r2_score\n"
   ]
  },
  {
   "cell_type": "code",
   "execution_count": 2,
   "metadata": {},
   "outputs": [],
   "source": [
    "# Importing the CSV dataset\n",
    "df = pd.read_csv('/Users/mercedes/code/mercedesf17/airbnb_analysis/dataset/new_york_listings_2024.csv')"
   ]
  },
  {
   "cell_type": "code",
   "execution_count": 3,
   "metadata": {},
   "outputs": [
    {
     "data": {
      "text/html": [
       "<div>\n",
       "<style scoped>\n",
       "    .dataframe tbody tr th:only-of-type {\n",
       "        vertical-align: middle;\n",
       "    }\n",
       "\n",
       "    .dataframe tbody tr th {\n",
       "        vertical-align: top;\n",
       "    }\n",
       "\n",
       "    .dataframe thead th {\n",
       "        text-align: right;\n",
       "    }\n",
       "</style>\n",
       "<table border=\"1\" class=\"dataframe\">\n",
       "  <thead>\n",
       "    <tr style=\"text-align: right;\">\n",
       "      <th></th>\n",
       "      <th>id</th>\n",
       "      <th>name</th>\n",
       "      <th>host_id</th>\n",
       "      <th>host_name</th>\n",
       "      <th>neighbourhood_group</th>\n",
       "      <th>neighbourhood</th>\n",
       "      <th>latitude</th>\n",
       "      <th>longitude</th>\n",
       "      <th>room_type</th>\n",
       "      <th>price</th>\n",
       "      <th>...</th>\n",
       "      <th>last_review</th>\n",
       "      <th>reviews_per_month</th>\n",
       "      <th>calculated_host_listings_count</th>\n",
       "      <th>availability_365</th>\n",
       "      <th>number_of_reviews_ltm</th>\n",
       "      <th>license</th>\n",
       "      <th>rating</th>\n",
       "      <th>bedrooms</th>\n",
       "      <th>beds</th>\n",
       "      <th>baths</th>\n",
       "    </tr>\n",
       "  </thead>\n",
       "  <tbody>\n",
       "    <tr>\n",
       "      <th>0</th>\n",
       "      <td>1312228</td>\n",
       "      <td>Rental unit in Brooklyn · ★5.0 · 1 bedroom</td>\n",
       "      <td>7130382</td>\n",
       "      <td>Walter</td>\n",
       "      <td>Brooklyn</td>\n",
       "      <td>Clinton Hill</td>\n",
       "      <td>40.683710</td>\n",
       "      <td>-73.964610</td>\n",
       "      <td>Private room</td>\n",
       "      <td>55.0</td>\n",
       "      <td>...</td>\n",
       "      <td>2015-12-20</td>\n",
       "      <td>0.03</td>\n",
       "      <td>1</td>\n",
       "      <td>0</td>\n",
       "      <td>0</td>\n",
       "      <td>No License</td>\n",
       "      <td>5.0</td>\n",
       "      <td>1</td>\n",
       "      <td>1</td>\n",
       "      <td>Not specified</td>\n",
       "    </tr>\n",
       "    <tr>\n",
       "      <th>1</th>\n",
       "      <td>45277537</td>\n",
       "      <td>Rental unit in New York · ★4.67 · 2 bedrooms ·...</td>\n",
       "      <td>51501835</td>\n",
       "      <td>Jeniffer</td>\n",
       "      <td>Manhattan</td>\n",
       "      <td>Hell's Kitchen</td>\n",
       "      <td>40.766610</td>\n",
       "      <td>-73.988100</td>\n",
       "      <td>Entire home/apt</td>\n",
       "      <td>144.0</td>\n",
       "      <td>...</td>\n",
       "      <td>2023-05-01</td>\n",
       "      <td>0.24</td>\n",
       "      <td>139</td>\n",
       "      <td>364</td>\n",
       "      <td>2</td>\n",
       "      <td>No License</td>\n",
       "      <td>4.67</td>\n",
       "      <td>2</td>\n",
       "      <td>1</td>\n",
       "      <td>1</td>\n",
       "    </tr>\n",
       "    <tr>\n",
       "      <th>2</th>\n",
       "      <td>971353993633883038</td>\n",
       "      <td>Rental unit in New York · ★4.17 · 1 bedroom · ...</td>\n",
       "      <td>528871354</td>\n",
       "      <td>Joshua</td>\n",
       "      <td>Manhattan</td>\n",
       "      <td>Chelsea</td>\n",
       "      <td>40.750764</td>\n",
       "      <td>-73.994605</td>\n",
       "      <td>Entire home/apt</td>\n",
       "      <td>187.0</td>\n",
       "      <td>...</td>\n",
       "      <td>2023-12-18</td>\n",
       "      <td>1.67</td>\n",
       "      <td>1</td>\n",
       "      <td>343</td>\n",
       "      <td>6</td>\n",
       "      <td>Exempt</td>\n",
       "      <td>4.17</td>\n",
       "      <td>1</td>\n",
       "      <td>2</td>\n",
       "      <td>1</td>\n",
       "    </tr>\n",
       "  </tbody>\n",
       "</table>\n",
       "<p>3 rows × 22 columns</p>\n",
       "</div>"
      ],
      "text/plain": [
       "                   id                                               name  \\\n",
       "0             1312228         Rental unit in Brooklyn · ★5.0 · 1 bedroom   \n",
       "1            45277537  Rental unit in New York · ★4.67 · 2 bedrooms ·...   \n",
       "2  971353993633883038  Rental unit in New York · ★4.17 · 1 bedroom · ...   \n",
       "\n",
       "     host_id host_name neighbourhood_group   neighbourhood   latitude  \\\n",
       "0    7130382    Walter            Brooklyn    Clinton Hill  40.683710   \n",
       "1   51501835  Jeniffer           Manhattan  Hell's Kitchen  40.766610   \n",
       "2  528871354    Joshua           Manhattan         Chelsea  40.750764   \n",
       "\n",
       "   longitude        room_type  price  ...  last_review  reviews_per_month  \\\n",
       "0 -73.964610     Private room   55.0  ...   2015-12-20               0.03   \n",
       "1 -73.988100  Entire home/apt  144.0  ...   2023-05-01               0.24   \n",
       "2 -73.994605  Entire home/apt  187.0  ...   2023-12-18               1.67   \n",
       "\n",
       "  calculated_host_listings_count  availability_365  number_of_reviews_ltm  \\\n",
       "0                              1                 0                      0   \n",
       "1                            139               364                      2   \n",
       "2                              1               343                      6   \n",
       "\n",
       "      license  rating bedrooms beds          baths  \n",
       "0  No License    5.0         1    1  Not specified  \n",
       "1  No License   4.67         2    1              1  \n",
       "2      Exempt   4.17         1    2              1  \n",
       "\n",
       "[3 rows x 22 columns]"
      ]
     },
     "execution_count": 3,
     "metadata": {},
     "output_type": "execute_result"
    }
   ],
   "source": [
    "df.head(3)"
   ]
  },
  {
   "cell_type": "code",
   "execution_count": 4,
   "metadata": {},
   "outputs": [
    {
     "name": "stdout",
     "output_type": "stream",
     "text": [
      "The initial number of rows of the dataframe is 20758.\n"
     ]
    }
   ],
   "source": [
    "print(f'The initial number of rows of the dataframe is {len(df)}.')"
   ]
  },
  {
   "cell_type": "code",
   "execution_count": 5,
   "metadata": {},
   "outputs": [
    {
     "name": "stdout",
     "output_type": "stream",
     "text": [
      "The number of rows with no rating is 3593.\n",
      "After dropping the rows with no rating, the dataframe has 17165 rows.\n"
     ]
    }
   ],
   "source": [
    "# Now I will start some data cleaning\n",
    "\n",
    "# First, checking how many rows have \"No Rating\"\n",
    "rows_no_rating = len(df[df['rating'] == 'No rating'])\n",
    "print(f'The number of rows with no rating is {rows_no_rating}.')\n",
    "\n",
    "# Second, dropping those rows and check the rows of the updates dataframe\n",
    "\n",
    "df.drop(df[(df['rating']== 'No rating')].index,inplace = True)\n",
    "new_len = len(df)\n",
    "print(f'After dropping the rows with no rating, the dataframe has {new_len} rows.')\n"
   ]
  },
  {
   "cell_type": "markdown",
   "metadata": {},
   "source": [
    "Neighbourhood and room type exploration"
   ]
  },
  {
   "cell_type": "code",
   "execution_count": 10,
   "metadata": {},
   "outputs": [
    {
     "name": "stdout",
     "output_type": "stream",
     "text": [
      "The AirBnbs of this dataset are spread across 219 neighbourhoods.\n",
      "The dataset includes 4 different types of accomodation types.\n"
     ]
    }
   ],
   "source": [
    "unique_neighbourhoods = df.nunique()['neighbourhood']\n",
    "unique_airbnb_types = df.nunique()['room_type']\n",
    "\n",
    "print(f\"The AirBnbs of this dataset are spread across {unique_neighbourhoods} neighbourhoods.\")\n",
    "print(f\"The dataset includes {unique_airbnb_types} different types of accomodation types.\")"
   ]
  },
  {
   "cell_type": "markdown",
   "metadata": {},
   "source": [
    "Price exploration"
   ]
  },
  {
   "cell_type": "code",
   "execution_count": 11,
   "metadata": {},
   "outputs": [
    {
     "data": {
      "text/html": [
       "<div>\n",
       "<style scoped>\n",
       "    .dataframe tbody tr th:only-of-type {\n",
       "        vertical-align: middle;\n",
       "    }\n",
       "\n",
       "    .dataframe tbody tr th {\n",
       "        vertical-align: top;\n",
       "    }\n",
       "\n",
       "    .dataframe thead th {\n",
       "        text-align: right;\n",
       "    }\n",
       "</style>\n",
       "<table border=\"1\" class=\"dataframe\">\n",
       "  <thead>\n",
       "    <tr style=\"text-align: right;\">\n",
       "      <th></th>\n",
       "      <th>price</th>\n",
       "    </tr>\n",
       "  </thead>\n",
       "  <tbody>\n",
       "    <tr>\n",
       "      <th>count</th>\n",
       "      <td>17165.000000</td>\n",
       "    </tr>\n",
       "    <tr>\n",
       "      <th>mean</th>\n",
       "      <td>187.151937</td>\n",
       "    </tr>\n",
       "    <tr>\n",
       "      <th>std</th>\n",
       "      <td>1113.765328</td>\n",
       "    </tr>\n",
       "    <tr>\n",
       "      <th>min</th>\n",
       "      <td>10.000000</td>\n",
       "    </tr>\n",
       "    <tr>\n",
       "      <th>25%</th>\n",
       "      <td>83.000000</td>\n",
       "    </tr>\n",
       "    <tr>\n",
       "      <th>50%</th>\n",
       "      <td>125.000000</td>\n",
       "    </tr>\n",
       "    <tr>\n",
       "      <th>75%</th>\n",
       "      <td>198.000000</td>\n",
       "    </tr>\n",
       "    <tr>\n",
       "      <th>max</th>\n",
       "      <td>100000.000000</td>\n",
       "    </tr>\n",
       "  </tbody>\n",
       "</table>\n",
       "</div>"
      ],
      "text/plain": [
       "               price\n",
       "count   17165.000000\n",
       "mean      187.151937\n",
       "std      1113.765328\n",
       "min        10.000000\n",
       "25%        83.000000\n",
       "50%       125.000000\n",
       "75%       198.000000\n",
       "max    100000.000000"
      ]
     },
     "execution_count": 11,
     "metadata": {},
     "output_type": "execute_result"
    }
   ],
   "source": [
    "df.describe()[['price']]\n",
    "\n",
    "# Observations: There is a huge difference between min, max and mean price per night. This might indicate there are some outliers\n",
    "# and I would want to delete them potentially. In the next steps, I will try to plot the distriubtion visually."
   ]
  },
  {
   "cell_type": "code",
   "execution_count": 14,
   "metadata": {},
   "outputs": [
    {
     "data": {
      "text/plain": [
       "<seaborn.axisgrid.FacetGrid at 0x133ffb100>"
      ]
     },
     "execution_count": 14,
     "metadata": {},
     "output_type": "execute_result"
    },
    {
     "data": {
      "image/png": "[encoded data removed]",
      "text/plain": [
       "<Figure size 500x500 with 1 Axes>"
      ]
     },
     "metadata": {},
     "output_type": "display_data"
    }
   ],
   "source": [
    "# The majority of prices seem to be clustered toward the lower end of the scale\n",
    "\n",
    "sns.displot(df, x = 'price', kind=\"kde\")"
   ]
  },
  {
   "cell_type": "code",
   "execution_count": 21,
   "metadata": {},
   "outputs": [
    {
     "data": {
      "image/png": "[encoded data removed]",
      "text/plain": [
       "<Figure size 1200x600 with 2 Axes>"
      ]
     },
     "metadata": {},
     "output_type": "display_data"
    }
   ],
   "source": [
    "# The scatterplot clearly shows an outlier in the higher end\n",
    "fig, axes = plt.subplots(1,2,figsize=(12, 6))\n",
    "\n",
    "sns.scatterplot(data=df, x='neighbourhood_group', y='price',ax=axes[0])\n",
    "sns.scatterplot(data=df, x='room_type', y='price',ax=axes[1])\n",
    "\n",
    "plt.show()"
   ]
  },
  {
   "cell_type": "code",
   "execution_count": 28,
   "metadata": {},
   "outputs": [
    {
     "name": "stdout",
     "output_type": "stream",
     "text": [
      "The number of outliers considering the last 1% percentile is 28.\n"
     ]
    }
   ],
   "source": [
    "# Calculating the first and third quartiles and flagging the data points\n",
    "# that fall significantly beyond this range as outliers\n",
    "\n",
    "Q1 = df['price'].quantile(0)\n",
    "Q3 = df['price'].quantile(0.99)\n",
    "IQR = Q3 - Q1\n",
    "\n",
    "threshold = 1.5\n",
    "outliers = df[(df['price'] < Q1 - threshold * IQR) | (df['price'] > Q3 + threshold * IQR)]\n",
    "print(f'The number of outliers considering the last 1% percentile is {len(outliers)}.')"
   ]
  },
  {
   "cell_type": "code",
   "execution_count": 31,
   "metadata": {},
   "outputs": [
    {
     "data": {
      "text/plain": [
       "<seaborn.axisgrid.FacetGrid at 0x1110eb3d0>"
      ]
     },
     "execution_count": 31,
     "metadata": {},
     "output_type": "execute_result"
    },
    {
     "data": {
      "image/png": "[encoded data removed]",
      "text/plain": [
       "<Figure size 500x500 with 1 Axes>"
      ]
     },
     "metadata": {},
     "output_type": "display_data"
    }
   ],
   "source": [
    "# Let's drop the outliers\n",
    "\n",
    "df.drop(df[(df['price'] < Q1 - threshold * IQR) | (df['price'] > Q3 + threshold * IQR)].index,inplace = True)\n",
    "\n",
    "# And check again the distribution visually\n",
    "\n",
    "sns.displot(df, x = 'price', kind = 'kde')"
   ]
  },
  {
   "cell_type": "code",
   "execution_count": 32,
   "metadata": {},
   "outputs": [
    {
     "data": {
      "image/png": "[encoded data removed]",
      "text/plain": [
       "<Figure size 1200x600 with 2 Axes>"
      ]
     },
     "metadata": {},
     "output_type": "display_data"
    }
   ],
   "source": [
    "fig, axes = plt.subplots(1,2,figsize=(12, 6))\n",
    "\n",
    "sns.scatterplot(data=df, x='neighbourhood_group', y='price',ax=axes[0])\n",
    "sns.scatterplot(data=df, x='room_type', y='price',ax=axes[1])\n",
    "\n",
    "plt.show()"
   ]
  },
  {
   "cell_type": "markdown",
   "metadata": {},
   "source": [
    "Hot-encoding some values so that I can start trying out predictive Machine Learning models"
   ]
  },
  {
   "cell_type": "code",
   "execution_count": 168,
   "metadata": {},
   "outputs": [
    {
     "data": {
      "text/html": [
       "<div>\n",
       "<style scoped>\n",
       "    .dataframe tbody tr th:only-of-type {\n",
       "        vertical-align: middle;\n",
       "    }\n",
       "\n",
       "    .dataframe tbody tr th {\n",
       "        vertical-align: top;\n",
       "    }\n",
       "\n",
       "    .dataframe thead th {\n",
       "        text-align: right;\n",
       "    }\n",
       "</style>\n",
       "<table border=\"1\" class=\"dataframe\">\n",
       "  <thead>\n",
       "    <tr style=\"text-align: right;\">\n",
       "      <th></th>\n",
       "      <th>id</th>\n",
       "      <th>name</th>\n",
       "      <th>host_id</th>\n",
       "      <th>host_name</th>\n",
       "      <th>neighbourhood</th>\n",
       "      <th>latitude</th>\n",
       "      <th>longitude</th>\n",
       "      <th>price</th>\n",
       "      <th>minimum_nights</th>\n",
       "      <th>number_of_reviews</th>\n",
       "      <th>...</th>\n",
       "      <th>baths</th>\n",
       "      <th>room_type_Entire home/apt</th>\n",
       "      <th>room_type_Hotel room</th>\n",
       "      <th>room_type_Private room</th>\n",
       "      <th>room_type_Shared room</th>\n",
       "      <th>neighbourhood_group_Bronx</th>\n",
       "      <th>neighbourhood_group_Brooklyn</th>\n",
       "      <th>neighbourhood_group_Manhattan</th>\n",
       "      <th>neighbourhood_group_Queens</th>\n",
       "      <th>neighbourhood_group_Staten Island</th>\n",
       "    </tr>\n",
       "  </thead>\n",
       "  <tbody>\n",
       "    <tr>\n",
       "      <th>0</th>\n",
       "      <td>1312228</td>\n",
       "      <td>Rental unit in Brooklyn · ★5.0 · 1 bedroom</td>\n",
       "      <td>7130382</td>\n",
       "      <td>Walter</td>\n",
       "      <td>Clinton Hill</td>\n",
       "      <td>40.683710</td>\n",
       "      <td>-73.964610</td>\n",
       "      <td>55.0</td>\n",
       "      <td>30</td>\n",
       "      <td>3</td>\n",
       "      <td>...</td>\n",
       "      <td>Not specified</td>\n",
       "      <td>False</td>\n",
       "      <td>False</td>\n",
       "      <td>True</td>\n",
       "      <td>False</td>\n",
       "      <td>False</td>\n",
       "      <td>True</td>\n",
       "      <td>False</td>\n",
       "      <td>False</td>\n",
       "      <td>False</td>\n",
       "    </tr>\n",
       "    <tr>\n",
       "      <th>1</th>\n",
       "      <td>45277537</td>\n",
       "      <td>Rental unit in New York · ★4.67 · 2 bedrooms ·...</td>\n",
       "      <td>51501835</td>\n",
       "      <td>Jeniffer</td>\n",
       "      <td>Hell's Kitchen</td>\n",
       "      <td>40.766610</td>\n",
       "      <td>-73.988100</td>\n",
       "      <td>144.0</td>\n",
       "      <td>30</td>\n",
       "      <td>9</td>\n",
       "      <td>...</td>\n",
       "      <td>1</td>\n",
       "      <td>True</td>\n",
       "      <td>False</td>\n",
       "      <td>False</td>\n",
       "      <td>False</td>\n",
       "      <td>False</td>\n",
       "      <td>False</td>\n",
       "      <td>True</td>\n",
       "      <td>False</td>\n",
       "      <td>False</td>\n",
       "    </tr>\n",
       "    <tr>\n",
       "      <th>2</th>\n",
       "      <td>971353993633883038</td>\n",
       "      <td>Rental unit in New York · ★4.17 · 1 bedroom · ...</td>\n",
       "      <td>528871354</td>\n",
       "      <td>Joshua</td>\n",
       "      <td>Chelsea</td>\n",
       "      <td>40.750764</td>\n",
       "      <td>-73.994605</td>\n",
       "      <td>187.0</td>\n",
       "      <td>2</td>\n",
       "      <td>6</td>\n",
       "      <td>...</td>\n",
       "      <td>1</td>\n",
       "      <td>True</td>\n",
       "      <td>False</td>\n",
       "      <td>False</td>\n",
       "      <td>False</td>\n",
       "      <td>False</td>\n",
       "      <td>False</td>\n",
       "      <td>True</td>\n",
       "      <td>False</td>\n",
       "      <td>False</td>\n",
       "    </tr>\n",
       "  </tbody>\n",
       "</table>\n",
       "<p>3 rows × 29 columns</p>\n",
       "</div>"
      ],
      "text/plain": [
       "                   id                                               name  \\\n",
       "0             1312228         Rental unit in Brooklyn · ★5.0 · 1 bedroom   \n",
       "1            45277537  Rental unit in New York · ★4.67 · 2 bedrooms ·...   \n",
       "2  971353993633883038  Rental unit in New York · ★4.17 · 1 bedroom · ...   \n",
       "\n",
       "     host_id host_name   neighbourhood   latitude  longitude  price  \\\n",
       "0    7130382    Walter    Clinton Hill  40.683710 -73.964610   55.0   \n",
       "1   51501835  Jeniffer  Hell's Kitchen  40.766610 -73.988100  144.0   \n",
       "2  528871354    Joshua         Chelsea  40.750764 -73.994605  187.0   \n",
       "\n",
       "   minimum_nights  number_of_reviews  ...          baths  \\\n",
       "0              30                  3  ...  Not specified   \n",
       "1              30                  9  ...              1   \n",
       "2               2                  6  ...              1   \n",
       "\n",
       "   room_type_Entire home/apt  room_type_Hotel room  room_type_Private room  \\\n",
       "0                      False                 False                    True   \n",
       "1                       True                 False                   False   \n",
       "2                       True                 False                   False   \n",
       "\n",
       "   room_type_Shared room neighbourhood_group_Bronx  \\\n",
       "0                  False                     False   \n",
       "1                  False                     False   \n",
       "2                  False                     False   \n",
       "\n",
       "  neighbourhood_group_Brooklyn neighbourhood_group_Manhattan  \\\n",
       "0                         True                         False   \n",
       "1                        False                          True   \n",
       "2                        False                          True   \n",
       "\n",
       "   neighbourhood_group_Queens neighbourhood_group_Staten Island  \n",
       "0                       False                             False  \n",
       "1                       False                             False  \n",
       "2                       False                             False  \n",
       "\n",
       "[3 rows x 29 columns]"
      ]
     },
     "execution_count": 168,
     "metadata": {},
     "output_type": "execute_result"
    }
   ],
   "source": [
    "# Hot-encoding the room type\n",
    "encoded_data = pd.get_dummies(df, columns= ['room_type', 'neighbourhood_group'])\n",
    "encoded_data.head(3)"
   ]
  },
  {
   "cell_type": "code",
   "execution_count": 169,
   "metadata": {},
   "outputs": [],
   "source": [
    "# The  bedrooms column does contain a string instead of a numberical value for string. I replaced the rows where it is \"Studio\"\n",
    "# With 0s\n",
    "encoded_data.replace({'Studio': 0}, inplace = True)"
   ]
  },
  {
   "cell_type": "code",
   "execution_count": 170,
   "metadata": {},
   "outputs": [
    {
     "data": {
      "text/plain": [
       "0.11863284552941167"
      ]
     },
     "execution_count": 170,
     "metadata": {},
     "output_type": "execute_result"
    }
   ],
   "source": [
    "# Determining X and y\n",
    "\n",
    "X = encoded_data[['room_type_Entire home/apt', 'room_type_Hotel room', 'room_type_Private room', 'room_type_Shared room']]\n",
    "y = encoded_data['price']\n",
    "\n",
    "# Splitting the data\n",
    "\n",
    "X_train, X_test, y_train, y_test = train_test_split(X,y, test_size = 0.2)\n",
    "\n",
    "# Instiating the model\n",
    "\n",
    "model = LinearRegression()\n",
    "\n",
    "model.fit(X_train, y_train)\n",
    "\n",
    "y_pred = model.predict(X_test)\n",
    "\n",
    "r2 = r2_score(y_test, y_pred)\n",
    "r2\n"
   ]
  },
  {
   "cell_type": "code",
   "execution_count": 171,
   "metadata": {},
   "outputs": [
    {
     "data": {
      "text/plain": [
       "0.16819444777051396"
      ]
     },
     "execution_count": 171,
     "metadata": {},
     "output_type": "execute_result"
    }
   ],
   "source": [
    "X1 = encoded_data[['bedrooms']]\n",
    "y1 = encoded_data['price']\n",
    "\n",
    "# Splitting the data\n",
    "\n",
    "X_train1, X_test1, y_train1, y_test1 = train_test_split(X1,y1, test_size = 0.2)\n",
    "\n",
    "# Instiating the model\n",
    "\n",
    "model1 = LinearRegression()\n",
    "\n",
    "model1.fit(X_train1, y_train1)\n",
    "\n",
    "y_pred1 = model1.predict(X_test1)\n",
    "\n",
    "r2_ = r2_score(y_test1, y_pred1)\n",
    "r2_"
   ]
  },
  {
   "cell_type": "code",
   "execution_count": 172,
   "metadata": {},
   "outputs": [
    {
     "data": {
      "text/plain": [
       "0.16799016442415582"
      ]
     },
     "execution_count": 172,
     "metadata": {},
     "output_type": "execute_result"
    }
   ],
   "source": [
    "X2 = encoded_data[['beds']]\n",
    "y2 = encoded_data['price']\n",
    "\n",
    "# Splitting the data\n",
    "\n",
    "X_train2, X_test2, y_train2, y_test2 = train_test_split(X2,y2, test_size = 0.2)\n",
    "\n",
    "# Instiating the model\n",
    "\n",
    "model2 = LinearRegression()\n",
    "\n",
    "model2.fit(X_train2, y_train2)\n",
    "\n",
    "y_pred2 = model2.predict(X_test2)\n",
    "\n",
    "r2__ = r2_score(y_test2, y_pred2)\n",
    "r2__"
   ]
  },
  {
   "cell_type": "code",
   "execution_count": 173,
   "metadata": {},
   "outputs": [
    {
     "data": {
      "text/plain": [
       "0.04293450964785328"
      ]
     },
     "execution_count": 173,
     "metadata": {},
     "output_type": "execute_result"
    }
   ],
   "source": [
    "X4 = encoded_data[['neighbourhood_group_Bronx', 'neighbourhood_group_Brooklyn', 'neighbourhood_group_Manhattan','neighbourhood_group_Queens','neighbourhood_group_Staten Island']]\n",
    "y4 = encoded_data['price']\n",
    "\n",
    "# Splitting the data\n",
    "\n",
    "X4_train, X4_test, y4_train, y4_test = train_test_split(X4,y4, test_size = 0.2)\n",
    "\n",
    "# Instiating the model\n",
    "\n",
    "model4 = LinearRegression()\n",
    "\n",
    "model4.fit(X4_train, y4_train)\n",
    "\n",
    "y4_pred = model4.predict(X4_test)\n",
    "\n",
    "r2____ = r2_score(y4_test, y4_pred)\n",
    "r2____\n"
   ]
  },
  {
   "cell_type": "code",
   "execution_count": 174,
   "metadata": {},
   "outputs": [
    {
     "data": {
      "text/plain": [
       "0.2514020048776906"
      ]
     },
     "execution_count": 174,
     "metadata": {},
     "output_type": "execute_result"
    }
   ],
   "source": [
    "X3 = encoded_data[['room_type_Entire home/apt', 'room_type_Hotel room', 'room_type_Private room', 'room_type_Shared room', 'beds', 'bedrooms']]\n",
    "y3 = encoded_data['price']\n",
    "\n",
    "# Splitting the data\n",
    "\n",
    "X3_train, X3_test, y3_train, y3_test = train_test_split(X3,y3, test_size = 0.2)\n",
    "\n",
    "# Instiating the model\n",
    "\n",
    "model3 = LinearRegression()\n",
    "\n",
    "model3.fit(X3_train, y3_train)\n",
    "\n",
    "y3_pred = model3.predict(X3_test)\n",
    "\n",
    "r2___ = r2_score(y3_test, y3_pred)\n",
    "r2___"
   ]
  }
 ],
 "metadata": {
  "kernelspec": {
   "display_name": "airbnb_analysis",
   "language": "python",
   "name": "python3"
  },
  "language_info": {
   "codemirror_mode": {
    "name": "ipython",
    "version": 3
   },
   "file_extension": ".py",
   "mimetype": "text/x-python",
   "name": "python",
   "nbconvert_exporter": "python",
   "pygments_lexer": "ipython3",
   "version": "3.10.6"
  }
 },
 "nbformat": 4,
 "nbformat_minor": 2
}
